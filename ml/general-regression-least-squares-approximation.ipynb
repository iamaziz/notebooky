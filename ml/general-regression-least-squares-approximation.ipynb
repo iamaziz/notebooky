{
 "cells": [
  {
   "cell_type": "markdown",
   "metadata": {},
   "source": [
    "### General Regression: Least Squares Approximation\n",
    "\n",
    "Using the pseudoinverse matrix (of the input variable $x$ as a matrix A)\n",
    "\n",
    "<hr>\n",
    "For a given data points ($x_i$,$y_i$)\n",
    "\n",
    "The matrix $A$ is generated from **$x_i$** as follows:\n",
    "\n",
    "$A = [ [1, x_1, x_1^2], [1, x_2, x_2^2], \\dots \\dots , [1, x_n, x_n^2] ]$\n",
    "\n",
    "and the pseudoinverse $A^+$ is calculated as \n",
    "\n",
    "$A^+ = (A^T A)^{-1} A^T$\n",
    "\n",
    "Then multiply $A^+$ by **$y_i$** to get the **approximated coefficients**."
   ]
  },
  {
   "cell_type": "code",
   "execution_count": 2,
   "metadata": {
    "collapsed": false
   },
   "outputs": [],
   "source": [
    "%matplotlib inline\n",
    "import numpy as np\n",
    "import matplotlib.pyplot as plt"
   ]
  },
  {
   "cell_type": "code",
   "execution_count": 3,
   "metadata": {
    "collapsed": false
   },
   "outputs": [],
   "source": [
    "def approximate(x,y):\n",
    "    \n",
    "    # matrix A from x\n",
    "    f = lambda x: [x/x, x, x**2]\n",
    "    a = np.array(f(x)).T\n",
    "\n",
    "    # A+: the pseudoinverse of A\n",
    "    a_plus = np.dot(np.linalg.inv(np.dot(a.T, a)), a.T)\n",
    "\n",
    "    # multiply A+ by y, to obtain the coefficient vector \n",
    "    coeficient = np.dot(a_plus, y)\n",
    "\n",
    "    c1, c2, c3 = coeficient\n",
    "\n",
    "    # the result\n",
    "    fx = 'F(x) = {:.2f} + {:.2f} x + {:.2f} x**2'.format(c1,c2,c3)\n",
    "    print('The approximated solution:\\n{}'.format(fx))\n",
    "\n",
    "    # sample the prediction line of a range of x values\n",
    "    x_range = np.arange(x.min(), x.max(), 0.2)\n",
    "    prediction = c1 + c2 * x_range + c3*x_range**2\n",
    "\n",
    "    # plot the prediction\n",
    "    plt.plot(x, y, 'o')\n",
    "    plt.plot(x_range, prediction)\n",
    "    plt.xlim(x.min()-2, x.max()+2)\n",
    "    plt.ylim(y.min()-2, y.max()+2)\n",
    "    plt.grid()\n",
    "    plt.show()"
   ]
  },
  {
   "cell_type": "markdown",
   "metadata": {},
   "source": [
    "**Example 1**"
   ]
  },
  {
   "cell_type": "code",
   "execution_count": 4,
   "metadata": {
    "collapsed": false
   },
   "outputs": [
    {
     "name": "stdout",
     "output_type": "stream",
     "text": [
      "The approximated solution:\n",
      "F(x) = 1.20 + -0.76 x + 0.21 x**2\n"
     ]
    },
    {
     "data": {
      "image/png": "[encoded data removed]",
      "text/plain": [
       "<matplotlib.figure.Figure at 0x11181e690>"
      ]
     },
     "metadata": {},
     "output_type": "display_data"
    }
   ],
   "source": [
    "# data points\n",
    "x = np.array([-1, 1, 2, 3, 5])  # input variable\n",
    "y = np.array([2, 1, 1, 0, 3])   # outcome\n",
    "\n",
    "approximate(x,y)"
   ]
  },
  {
   "cell_type": "markdown",
   "metadata": {},
   "source": [
    "**Example 2**"
   ]
  },
  {
   "cell_type": "code",
   "execution_count": 5,
   "metadata": {
    "collapsed": false
   },
   "outputs": [
    {
     "name": "stdout",
     "output_type": "stream",
     "text": [
      "The approximated solution:\n",
      "F(x) = 0.00 + 0.60 x + 0.00 x**2\n"
     ]
    },
    {
     "name": "stderr",
     "output_type": "stream",
     "text": [
      "/usr/local/lib/python2.7/site-packages/ipykernel/__main__.py:4: RuntimeWarning: divide by zero encountered in divide\n"
     ]
    },
    {
     "data": {
      "image/png": "[encoded data removed]",
      "text/plain": [
       "<matplotlib.figure.Figure at 0x1132386d0>"
      ]
     },
     "metadata": {},
     "output_type": "display_data"
    }
   ],
   "source": [
    "x = np.array([2,0,-2,-1,1])\n",
    "y = np.array([2,0,-2,1,-1])\n",
    "\n",
    "approximate(x,y)"
   ]
  },
  {
   "cell_type": "markdown",
   "metadata": {},
   "source": [
    "**Example 3**"
   ]
  },
  {
   "cell_type": "code",
   "execution_count": 6,
   "metadata": {
    "collapsed": false
   },
   "outputs": [
    {
     "name": "stdout",
     "output_type": "stream",
     "text": [
      "The approximated solution:\n",
      "F(x) = 2.47 + 0.91 x + 0.10 x**2\n"
     ]
    },
    {
     "data": {
      "image/png": "[encoded data removed]",
      "text/plain": [
       "<matplotlib.figure.Figure at 0x11416b510>"
      ]
     },
     "metadata": {},
     "output_type": "display_data"
    }
   ],
   "source": [
    "from pydataset import data\n",
    "cars = data('cars')\n",
    "x = cars.speed\n",
    "y = cars.dist\n",
    "approximate(x,y)"
   ]
  },
  {
   "cell_type": "markdown",
   "metadata": {},
   "source": [
    "<hr>\n",
    "Reference:\n",
    "- Ch.28.3 Introduction to Algorithms, Cormen, et al., MIT Press\n",
    "- https://en.wikipedia.org/wiki/Moore–Penrose_pseudoinverse"
   ]
  },
  {
   "cell_type": "code",
   "execution_count": 7,
   "metadata": {
    "collapsed": false
   },
   "outputs": [
    {
     "name": "stdout",
     "output_type": "stream",
     "text": [
      "Aziz\r\n",
      "Tue Apr  5 04:00:56 EDT 2016\r\n"
     ]
    }
   ],
   "source": [
    "!whoami && date"
   ]
  }
 ],
 "metadata": {
  "kernelspec": {
   "display_name": "Python 2",
   "language": "python",
   "name": "python2"
  },
  "language_info": {
   "codemirror_mode": {
    "name": "ipython",
    "version": 2
   },
   "file_extension": ".py",
   "mimetype": "text/x-python",
   "name": "python",
   "nbconvert_exporter": "python",
   "pygments_lexer": "ipython2",
   "version": "2.7.10"
  }
 },
 "nbformat": 4,
 "nbformat_minor": 0
}
