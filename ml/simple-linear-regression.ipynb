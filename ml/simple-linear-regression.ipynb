{
 "cells": [
  {
   "cell_type": "markdown",
   "metadata": {},
   "source": [
    "### Solving a simple linear regression line"
   ]
  },
  {
   "cell_type": "markdown",
   "metadata": {},
   "source": [
    "In a simple linear regression, the **best line fit** is:\n",
    "\n",
    "$$ y = a + bx $$\n",
    "\n",
    "where, \n",
    "$\\;\\; b = \\frac{ (\\sum_{i=1}^{n} x_iy_i) - n\\bar{x}\\bar{y} }{\\sum x^2 - n \\bar{x}^2} $\n",
    "and, \n",
    "$\\;\\;a = \\bar{y} - b\\bar{x}$\n",
    "\n",
    "$\\bar{x}$ and $\\bar{y}$ are the means of the corresponding axis points. \n",
    "\n",
    "<br>\n",
    "**A small example**:"
   ]
  },
  {
   "cell_type": "code",
   "execution_count": 1,
   "metadata": {
    "collapsed": true
   },
   "outputs": [],
   "source": [
    "import numpy as np"
   ]
  },
  {
   "cell_type": "code",
   "execution_count": 2,
   "metadata": {
    "collapsed": true
   },
   "outputs": [],
   "source": [
    "points = np.array([\n",
    "    [0,0],\n",
    "    [5,7],\n",
    "    [10,10],\n",
    "    [15,13],\n",
    "    [20,20]])"
   ]
  },
  {
   "cell_type": "code",
   "execution_count": 3,
   "metadata": {
    "collapsed": false
   },
   "outputs": [],
   "source": [
    "x = np.array(points.T[0])\n",
    "y = np.array(points.T[1])"
   ]
  },
  {
   "cell_type": "markdown",
   "metadata": {},
   "source": [
    "The solution"
   ]
  },
  {
   "cell_type": "code",
   "execution_count": 4,
   "metadata": {
    "collapsed": false
   },
   "outputs": [
    {
     "name": "stdout",
     "output_type": "stream",
     "text": [
      "y = 0.8 + 0.92x\n"
     ]
    }
   ],
   "source": [
    "A = np.vstack([x, np.ones(len(x))]).T\n",
    "b, a = np.linalg.lstsq(A, y)[0]\n",
    "print('y = {} + {}x'.format(a, b))"
   ]
  },
  {
   "cell_type": "markdown",
   "metadata": {},
   "source": [
    "Plot the line: "
   ]
  },
  {
   "cell_type": "code",
   "execution_count": 5,
   "metadata": {
    "collapsed": false
   },
   "outputs": [
    {
     "data": {
      "image/png": "[encoded data removed]",
      "text/plain": [
       "<matplotlib.figure.Figure at 0x1108c58d0>"
      ]
     },
     "metadata": {},
     "output_type": "display_data"
    }
   ],
   "source": [
    "%matplotlib inline\n",
    "import matplotlib.pyplot as plt\n",
    "plt.plot(x, y, 'o', label='Original data')\n",
    "plt.plot(x, b*x + a, label='Fitted line')\n",
    "plt.legend(bbox_to_anchor=(1.5,1));plt.grid();plt.show()"
   ]
  },
  {
   "cell_type": "markdown",
   "metadata": {},
   "source": [
    "**Compute the error**:\n",
    "\n",
    "$error = y - \\hat{y}$\n",
    "\n",
    "where, $y$ is the actual point, and $\\hat{y}$ is the predicted one.\n",
    "\n",
    "The Sum Square Error SSE:\n",
    "\n",
    "$SSE = \\sum_{i=1}^{n} (y - \\hat{y})^2$"
   ]
  },
  {
   "cell_type": "code",
   "execution_count": 6,
   "metadata": {
    "collapsed": false
   },
   "outputs": [
    {
     "name": "stdout",
     "output_type": "stream",
     "text": [
      "SSE = 6.4\n"
     ]
    }
   ],
   "source": [
    "error = lambda x, y: (y - (a + b * x))**2\n",
    "sse = sum([error(i,j) for i, j in zip(x,y)])\n",
    "print('SSE = {}'.format(sse))"
   ]
  },
  {
   "cell_type": "markdown",
   "metadata": {},
   "source": [
    "For each point "
   ]
  },
  {
   "cell_type": "code",
   "execution_count": 7,
   "metadata": {
    "collapsed": false
   },
   "outputs": [
    {
     "name": "stdout",
     "output_type": "stream",
     "text": [
      "point: (0, 0)\terror: 0.80\n",
      "point: (5, 7)\terror: 1.60\n",
      "point: (10, 10)\terror: 0.00\n",
      "point: (15, 13)\terror: 1.60\n",
      "point: (20, 20)\terror: 0.80\n"
     ]
    }
   ],
   "source": [
    "for i, j in zip(x,y):\n",
    "    print('point: {}\\terror: {:.2f}'.format((i,j), np.sqrt(error(i,j))))"
   ]
  },
  {
   "cell_type": "markdown",
   "metadata": {},
   "source": [
    "<br><br>"
   ]
  },
  {
   "cell_type": "code",
   "execution_count": 8,
   "metadata": {
    "collapsed": false
   },
   "outputs": [
    {
     "name": "stdout",
     "output_type": "stream",
     "text": [
      "Aziz\r\n",
      "Mon Dec 14 23:02:58 EST 2015\r\n"
     ]
    }
   ],
   "source": [
    "!whoami && date"
   ]
  }
 ],
 "metadata": {
  "kernelspec": {
   "display_name": "Python 2",
   "language": "python",
   "name": "python2"
  },
  "language_info": {
   "codemirror_mode": {
    "name": "ipython",
    "version": 2
   },
   "file_extension": ".py",
   "mimetype": "text/x-python",
   "name": "python",
   "nbconvert_exporter": "python",
   "pygments_lexer": "ipython2",
   "version": "2.7.10"
  }
 },
 "nbformat": 4,
 "nbformat_minor": 0
}
