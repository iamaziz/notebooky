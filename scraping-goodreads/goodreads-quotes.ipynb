{
 "cells": [
  {
   "cell_type": "markdown",
   "metadata": {},
   "source": [
    "### Extracting and querying Einstein's quotes (of Goodreads website)\n",
    "> source: https://www.goodreads.com/author/quotes/9810.Albert_Einstein"
   ]
  },
  {
   "cell_type": "code",
   "execution_count": 1,
   "metadata": {
    "collapsed": true
   },
   "outputs": [],
   "source": [
    "from bs4 import BeautifulSoup as bs\n",
    "import requests"
   ]
  },
  {
   "cell_type": "code",
   "execution_count": 2,
   "metadata": {
    "collapsed": true
   },
   "outputs": [],
   "source": [
    "def extract_quotes(url):\n",
    "    \n",
    "    html = requests.get(url).text\n",
    "    soup = bs(html, \"lxml\")\n",
    "    \n",
    "    # div 'quote' \n",
    "        # > div 'quoteText'       # text\n",
    "        # > div 'quoteFooter'\n",
    "            # > div 'right'       # likes \n",
    "\n",
    "    quotes_div = soup.findAll('div', class_='quote')\n",
    "    \n",
    "    quotes = []\n",
    "    \n",
    "    for q in quotes_div:\n",
    "\n",
    "        # quote - Author\n",
    "        quote = q.find('div', class_='quoteText').text.strip() \n",
    "        txt, *author = quote.strip().split(\"\\n\")\n",
    "        \n",
    "        # num of likes\n",
    "        likes = q.find('div', class_='right').text.strip().split()[0]\n",
    "        \n",
    "        \n",
    "        quotes.append((txt, likes))\n",
    "\n",
    "    return quotes\n",
    "    "
   ]
  },
  {
   "cell_type": "code",
   "execution_count": 3,
   "metadata": {
    "collapsed": false
   },
   "outputs": [
    {
     "name": "stdout",
     "output_type": "stream",
     "text": [
      "CPU times: user 2.23 s, sys: 69.8 ms, total: 2.3 s\n",
      "Wall time: 28.3 s\n"
     ]
    }
   ],
   "source": [
    "%%time\n",
    "\n",
    "# scraping quotes from the 33 pages of Einstein's\n",
    "page_quotes = []\n",
    "base_url = 'https://www.goodreads.com/author/quotes/9810.Albert_Einstein?page='\n",
    "for i in range(1, 34):\n",
    "    url = base_url + str(i)\n",
    "    txt = extract_quotes(url)\n",
    "    page_quotes.append(txt)"
   ]
  },
  {
   "cell_type": "code",
   "execution_count": 4,
   "metadata": {
    "collapsed": false
   },
   "outputs": [],
   "source": [
    "# concatenate quotes from the different pages into one list\n",
    "quotes = []\n",
    "for q in page_quotes:\n",
    "    quotes.extend(q)"
   ]
  },
  {
   "cell_type": "code",
   "execution_count": 5,
   "metadata": {
    "collapsed": false
   },
   "outputs": [],
   "source": [
    "# unpack quotes txt and likes\n",
    "txts, likes = zip(*quotes)"
   ]
  },
  {
   "cell_type": "markdown",
   "metadata": {},
   "source": [
    "---\n",
    "We are done extracting the quotes from Goodreads website; next lets load the quotes into a (pandas) dataframe so we can perform some queries:\n",
    "\n",
    "---"
   ]
  },
  {
   "cell_type": "code",
   "execution_count": 6,
   "metadata": {
    "collapsed": true
   },
   "outputs": [],
   "source": [
    "import pandas as pd\n",
    "pd.set_option('display.max_colwidth', 140) # for better readability "
   ]
  },
  {
   "cell_type": "code",
   "execution_count": 7,
   "metadata": {
    "collapsed": true
   },
   "outputs": [],
   "source": [
    "df = pd.DataFrame(columns=['likes', 'quote'])"
   ]
  },
  {
   "cell_type": "code",
   "execution_count": 8,
   "metadata": {
    "collapsed": false
   },
   "outputs": [],
   "source": [
    "df['likes'] = list(likes)\n",
    "df['likes'] = df['likes'].astype(int)\n",
    "df['quote'] = list(txts)"
   ]
  },
  {
   "cell_type": "markdown",
   "metadata": {},
   "source": [
    "### Do some queries"
   ]
  },
  {
   "cell_type": "code",
   "execution_count": 14,
   "metadata": {
    "collapsed": false
   },
   "outputs": [
    {
     "data": {
      "text/html": [
       "<div>\n",
       "<table border=\"1\" class=\"dataframe\">\n",
       "  <thead>\n",
       "    <tr style=\"text-align: right;\">\n",
       "      <th></th>\n",
       "      <th>likes</th>\n",
       "      <th>quote</th>\n",
       "    </tr>\n",
       "  </thead>\n",
       "  <tbody>\n",
       "    <tr>\n",
       "      <th>0</th>\n",
       "      <td>101792</td>\n",
       "      <td>“Two things are infinite: the universe and human stupidity; and I'm not sure about the universe.”</td>\n",
       "    </tr>\n",
       "    <tr>\n",
       "      <th>1</th>\n",
       "      <td>40326</td>\n",
       "      <td>“There are only two ways to live your life. One is as though nothing is a miracle. The other is as though everything is a miracle.”</td>\n",
       "    </tr>\n",
       "    <tr>\n",
       "      <th>2</th>\n",
       "      <td>31956</td>\n",
       "      <td>“I am enough of an artist to draw freely upon my imagination. Imagination is more important than knowledge. Knowledge is limited. Imagin...</td>\n",
       "    </tr>\n",
       "    <tr>\n",
       "      <th>3</th>\n",
       "      <td>25794</td>\n",
       "      <td>“If you can't explain it to a six year old, you don't understand it yourself.”</td>\n",
       "    </tr>\n",
       "    <tr>\n",
       "      <th>4</th>\n",
       "      <td>21812</td>\n",
       "      <td>“If you want your children to be intelligent, read them fairy tales. If you want them to be more intelligent, read them more fairy tales.”</td>\n",
       "    </tr>\n",
       "    <tr>\n",
       "      <th>5</th>\n",
       "      <td>21621</td>\n",
       "      <td>“Logic will get you from A to Z; imagination will get you everywhere.”</td>\n",
       "    </tr>\n",
       "    <tr>\n",
       "      <th>6</th>\n",
       "      <td>18708</td>\n",
       "      <td>“Life is like riding a bicycle. To keep your balance, you must keep moving.”</td>\n",
       "    </tr>\n",
       "    <tr>\n",
       "      <th>7</th>\n",
       "      <td>15392</td>\n",
       "      <td>“Anyone who has never made a mistake has never tried anything new.”</td>\n",
       "    </tr>\n",
       "    <tr>\n",
       "      <th>8</th>\n",
       "      <td>11578</td>\n",
       "      <td>“I speak to everyone in the same way, whether he is the garbage man or the president of the university.”</td>\n",
       "    </tr>\n",
       "    <tr>\n",
       "      <th>9</th>\n",
       "      <td>8997</td>\n",
       "      <td>“When you are courting a nice girl an hour seems like a second. When you sit on a red-hot cinder a second seems like an hour. That's rel...</td>\n",
       "    </tr>\n",
       "  </tbody>\n",
       "</table>\n",
       "</div>"
      ],
      "text/plain": [
       "    likes  \\\n",
       "0  101792   \n",
       "1   40326   \n",
       "2   31956   \n",
       "3   25794   \n",
       "4   21812   \n",
       "5   21621   \n",
       "6   18708   \n",
       "7   15392   \n",
       "8   11578   \n",
       "9    8997   \n",
       "\n",
       "                                                                                                                                         quote  \n",
       "0                                            “Two things are infinite: the universe and human stupidity; and I'm not sure about the universe.”  \n",
       "1          “There are only two ways to live your life. One is as though nothing is a miracle. The other is as though everything is a miracle.”  \n",
       "2  “I am enough of an artist to draw freely upon my imagination. Imagination is more important than knowledge. Knowledge is limited. Imagin...  \n",
       "3                                                               “If you can't explain it to a six year old, you don't understand it yourself.”  \n",
       "4   “If you want your children to be intelligent, read them fairy tales. If you want them to be more intelligent, read them more fairy tales.”  \n",
       "5                                                                       “Logic will get you from A to Z; imagination will get you everywhere.”  \n",
       "6                                                                 “Life is like riding a bicycle. To keep your balance, you must keep moving.”  \n",
       "7                                                                          “Anyone who has never made a mistake has never tried anything new.”  \n",
       "8                                     “I speak to everyone in the same way, whether he is the garbage man or the president of the university.”  \n",
       "9  “When you are courting a nice girl an hour seems like a second. When you sit on a red-hot cinder a second seems like an hour. That's rel...  "
      ]
     },
     "execution_count": 14,
     "metadata": {},
     "output_type": "execute_result"
    }
   ],
   "source": [
    "df[:10]"
   ]
  },
  {
   "cell_type": "code",
   "execution_count": 9,
   "metadata": {
    "collapsed": false
   },
   "outputs": [
    {
     "data": {
      "text/plain": [
       "'“I am enough of an artist to draw freely upon my imagination. Imagination is more important than knowledge. Knowledge is limited. Imagination encircles the world.”'"
      ]
     },
     "execution_count": 9,
     "metadata": {},
     "output_type": "execute_result"
    }
   ],
   "source": [
    "df.quote[2]"
   ]
  },
  {
   "cell_type": "code",
   "execution_count": 10,
   "metadata": {
    "collapsed": false
   },
   "outputs": [
    {
     "data": {
      "text/html": [
       "<div>\n",
       "<table border=\"1\" class=\"dataframe\">\n",
       "  <thead>\n",
       "    <tr style=\"text-align: right;\">\n",
       "      <th></th>\n",
       "      <th>likes</th>\n",
       "      <th>quote</th>\n",
       "    </tr>\n",
       "  </thead>\n",
       "  <tbody>\n",
       "    <tr>\n",
       "      <th>2</th>\n",
       "      <td>31956</td>\n",
       "      <td>“I am enough of an artist to draw freely upon my imagination. Imagination is more important than knowledge. Knowledge is limited. Imagin...</td>\n",
       "    </tr>\n",
       "    <tr>\n",
       "      <th>5</th>\n",
       "      <td>21621</td>\n",
       "      <td>“Logic will get you from A to Z; imagination will get you everywhere.”</td>\n",
       "    </tr>\n",
       "    <tr>\n",
       "      <th>86</th>\n",
       "      <td>597</td>\n",
       "      <td>“Imagination is more important than knowledge. For knowledge is limited to all we now know and understand, while imagination embraces th...</td>\n",
       "    </tr>\n",
       "    <tr>\n",
       "      <th>122</th>\n",
       "      <td>318</td>\n",
       "      <td>“The true sign of intelligence is not knowledge but imagination.”</td>\n",
       "    </tr>\n",
       "    <tr>\n",
       "      <th>201</th>\n",
       "      <td>106</td>\n",
       "      <td>“A society's competitive advantage will come not from how well its schools teach the multiplication and periodic tables, but from how we...</td>\n",
       "    </tr>\n",
       "    <tr>\n",
       "      <th>245</th>\n",
       "      <td>76</td>\n",
       "      <td>“I believe in intuition and inspiration. Imagination is more important than knowledge. For knowledge is limited, whereas imagination emb...</td>\n",
       "    </tr>\n",
       "    <tr>\n",
       "      <th>267</th>\n",
       "      <td>63</td>\n",
       "      <td>“Your imagination is your preview of life’s coming attractions.”</td>\n",
       "    </tr>\n",
       "    <tr>\n",
       "      <th>362</th>\n",
       "      <td>24</td>\n",
       "      <td>“The true sign of intelligence is not knowledge but imagination. I have no special talent. I am only passionately curious.”</td>\n",
       "    </tr>\n",
       "    <tr>\n",
       "      <th>373</th>\n",
       "      <td>23</td>\n",
       "      <td>“To invent something, all you need is imagination and a big pile of junk.”</td>\n",
       "    </tr>\n",
       "    <tr>\n",
       "      <th>470</th>\n",
       "      <td>11</td>\n",
       "      <td>“Beyond the realms of what we see, into the regions or the unexplored limited only by our imaginations.”</td>\n",
       "    </tr>\n",
       "    <tr>\n",
       "      <th>480</th>\n",
       "      <td>11</td>\n",
       "      <td>“To raise new questions, new possibilities, to regard old problems from a new angle, requires creative imagination and marks real advanc...</td>\n",
       "    </tr>\n",
       "    <tr>\n",
       "      <th>835</th>\n",
       "      <td>0</td>\n",
       "      <td>“Imagination is more important than knowledge. Knowledge is limited, imagination encircles the world.”</td>\n",
       "    </tr>\n",
       "    <tr>\n",
       "      <th>902</th>\n",
       "      <td>0</td>\n",
       "      <td>“The creative imagination is the essential element of a true scientist, and fairy tales are the childhood stimulus to this quality.”</td>\n",
       "    </tr>\n",
       "  </tbody>\n",
       "</table>\n",
       "</div>"
      ],
      "text/plain": [
       "     likes  \\\n",
       "2    31956   \n",
       "5    21621   \n",
       "86     597   \n",
       "122    318   \n",
       "201    106   \n",
       "245     76   \n",
       "267     63   \n",
       "362     24   \n",
       "373     23   \n",
       "470     11   \n",
       "480     11   \n",
       "835      0   \n",
       "902      0   \n",
       "\n",
       "                                                                                                                                           quote  \n",
       "2    “I am enough of an artist to draw freely upon my imagination. Imagination is more important than knowledge. Knowledge is limited. Imagin...  \n",
       "5                                                                         “Logic will get you from A to Z; imagination will get you everywhere.”  \n",
       "86   “Imagination is more important than knowledge. For knowledge is limited to all we now know and understand, while imagination embraces th...  \n",
       "122                                                                            “The true sign of intelligence is not knowledge but imagination.”  \n",
       "201  “A society's competitive advantage will come not from how well its schools teach the multiplication and periodic tables, but from how we...  \n",
       "245  “I believe in intuition and inspiration. Imagination is more important than knowledge. For knowledge is limited, whereas imagination emb...  \n",
       "267                                                                             “Your imagination is your preview of life’s coming attractions.”  \n",
       "362                  “The true sign of intelligence is not knowledge but imagination. I have no special talent. I am only passionately curious.”  \n",
       "373                                                                   “To invent something, all you need is imagination and a big pile of junk.”  \n",
       "470                                     “Beyond the realms of what we see, into the regions or the unexplored limited only by our imaginations.”  \n",
       "480  “To raise new questions, new possibilities, to regard old problems from a new angle, requires creative imagination and marks real advanc...  \n",
       "835                                       “Imagination is more important than knowledge. Knowledge is limited, imagination encircles the world.”  \n",
       "902         “The creative imagination is the essential element of a true scientist, and fairy tales are the childhood stimulus to this quality.”  "
      ]
     },
     "execution_count": 10,
     "metadata": {},
     "output_type": "execute_result"
    }
   ],
   "source": [
    "# quotes that contain the word 'imagination'\n",
    "df[df['quote'].str.contains('imagination')]"
   ]
  },
  {
   "cell_type": "code",
   "execution_count": 11,
   "metadata": {
    "collapsed": false
   },
   "outputs": [
    {
     "data": {
      "text/html": [
       "<div>\n",
       "<table border=\"1\" class=\"dataframe\">\n",
       "  <thead>\n",
       "    <tr style=\"text-align: right;\">\n",
       "      <th></th>\n",
       "      <th>likes</th>\n",
       "      <th>quote</th>\n",
       "    </tr>\n",
       "  </thead>\n",
       "  <tbody>\n",
       "    <tr>\n",
       "      <th>0</th>\n",
       "      <td>101792</td>\n",
       "      <td>“Two things are infinite: the universe and human stupidity; and I'm not sure about the universe.”</td>\n",
       "    </tr>\n",
       "    <tr>\n",
       "      <th>1</th>\n",
       "      <td>40326</td>\n",
       "      <td>“There are only two ways to live your life. One is as though nothing is a miracle. The other is as though everything is a miracle.”</td>\n",
       "    </tr>\n",
       "    <tr>\n",
       "      <th>2</th>\n",
       "      <td>31956</td>\n",
       "      <td>“I am enough of an artist to draw freely upon my imagination. Imagination is more important than knowledge. Knowledge is limited. Imagin...</td>\n",
       "    </tr>\n",
       "    <tr>\n",
       "      <th>3</th>\n",
       "      <td>25794</td>\n",
       "      <td>“If you can't explain it to a six year old, you don't understand it yourself.”</td>\n",
       "    </tr>\n",
       "    <tr>\n",
       "      <th>4</th>\n",
       "      <td>21812</td>\n",
       "      <td>“If you want your children to be intelligent, read them fairy tales. If you want them to be more intelligent, read them more fairy tales.”</td>\n",
       "    </tr>\n",
       "    <tr>\n",
       "      <th>5</th>\n",
       "      <td>21621</td>\n",
       "      <td>“Logic will get you from A to Z; imagination will get you everywhere.”</td>\n",
       "    </tr>\n",
       "    <tr>\n",
       "      <th>6</th>\n",
       "      <td>18708</td>\n",
       "      <td>“Life is like riding a bicycle. To keep your balance, you must keep moving.”</td>\n",
       "    </tr>\n",
       "    <tr>\n",
       "      <th>7</th>\n",
       "      <td>15392</td>\n",
       "      <td>“Anyone who has never made a mistake has never tried anything new.”</td>\n",
       "    </tr>\n",
       "    <tr>\n",
       "      <th>8</th>\n",
       "      <td>11578</td>\n",
       "      <td>“I speak to everyone in the same way, whether he is the garbage man or the president of the university.”</td>\n",
       "    </tr>\n",
       "    <tr>\n",
       "      <th>9</th>\n",
       "      <td>8997</td>\n",
       "      <td>“When you are courting a nice girl an hour seems like a second. When you sit on a red-hot cinder a second seems like an hour. That's rel...</td>\n",
       "    </tr>\n",
       "    <tr>\n",
       "      <th>10</th>\n",
       "      <td>8637</td>\n",
       "      <td>“Never memorize something that you can look up.”</td>\n",
       "    </tr>\n",
       "    <tr>\n",
       "      <th>11</th>\n",
       "      <td>8247</td>\n",
       "      <td>“A clever person solves a problem. A wise person avoids it.”</td>\n",
       "    </tr>\n",
       "    <tr>\n",
       "      <th>12</th>\n",
       "      <td>7924</td>\n",
       "      <td>“Science without religion is lame, religion without science is blind.”</td>\n",
       "    </tr>\n",
       "    <tr>\n",
       "      <th>13</th>\n",
       "      <td>7656</td>\n",
       "      <td>“Reality is merely an illusion, albeit a very persistent one.”</td>\n",
       "    </tr>\n",
       "    <tr>\n",
       "      <th>14</th>\n",
       "      <td>7211</td>\n",
       "      <td>“If we knew what it was we were doing, it would not be called research, would it?”</td>\n",
       "    </tr>\n",
       "    <tr>\n",
       "      <th>15</th>\n",
       "      <td>7030</td>\n",
       "      <td>“I have no special talents. I am only passionately curious.”</td>\n",
       "    </tr>\n",
       "  </tbody>\n",
       "</table>\n",
       "</div>"
      ],
      "text/plain": [
       "     likes  \\\n",
       "0   101792   \n",
       "1    40326   \n",
       "2    31956   \n",
       "3    25794   \n",
       "4    21812   \n",
       "5    21621   \n",
       "6    18708   \n",
       "7    15392   \n",
       "8    11578   \n",
       "9     8997   \n",
       "10    8637   \n",
       "11    8247   \n",
       "12    7924   \n",
       "13    7656   \n",
       "14    7211   \n",
       "15    7030   \n",
       "\n",
       "                                                                                                                                          quote  \n",
       "0                                             “Two things are infinite: the universe and human stupidity; and I'm not sure about the universe.”  \n",
       "1           “There are only two ways to live your life. One is as though nothing is a miracle. The other is as though everything is a miracle.”  \n",
       "2   “I am enough of an artist to draw freely upon my imagination. Imagination is more important than knowledge. Knowledge is limited. Imagin...  \n",
       "3                                                                “If you can't explain it to a six year old, you don't understand it yourself.”  \n",
       "4    “If you want your children to be intelligent, read them fairy tales. If you want them to be more intelligent, read them more fairy tales.”  \n",
       "5                                                                        “Logic will get you from A to Z; imagination will get you everywhere.”  \n",
       "6                                                                  “Life is like riding a bicycle. To keep your balance, you must keep moving.”  \n",
       "7                                                                           “Anyone who has never made a mistake has never tried anything new.”  \n",
       "8                                      “I speak to everyone in the same way, whether he is the garbage man or the president of the university.”  \n",
       "9   “When you are courting a nice girl an hour seems like a second. When you sit on a red-hot cinder a second seems like an hour. That's rel...  \n",
       "10                                                                                             “Never memorize something that you can look up.”  \n",
       "11                                                                                 “A clever person solves a problem. A wise person avoids it.”  \n",
       "12                                                                       “Science without religion is lame, religion without science is blind.”  \n",
       "13                                                                               “Reality is merely an illusion, albeit a very persistent one.”  \n",
       "14                                                           “If we knew what it was we were doing, it would not be called research, would it?”  \n",
       "15                                                                                 “I have no special talents. I am only passionately curious.”  "
      ]
     },
     "execution_count": 11,
     "metadata": {},
     "output_type": "execute_result"
    }
   ],
   "source": [
    "# quotes with more than 7000 likes\n",
    "df[df[\"likes\"] > 7000]"
   ]
  },
  {
   "cell_type": "code",
   "execution_count": 13,
   "metadata": {
    "collapsed": true
   },
   "outputs": [],
   "source": [
    "# save to csv\n",
    "df.to_csv('einstein-quotes-goodreads.csv', sep='\\t', index=False)"
   ]
  },
  {
   "cell_type": "markdown",
   "metadata": {},
   "source": [
    "---"
   ]
  },
  {
   "cell_type": "code",
   "execution_count": 17,
   "metadata": {
    "collapsed": false
   },
   "outputs": [
    {
     "name": "stdout",
     "output_type": "stream",
     "text": [
      "Aziz\n",
      "Thu Feb 25 19:21:50 EST 2016\n"
     ]
    }
   ],
   "source": [
    "%%bash\n",
    "whoami\n",
    "date"
   ]
  }
 ],
 "metadata": {
  "kernelspec": {
   "display_name": "Python 3",
   "language": "python",
   "name": "python3"
  },
  "language_info": {
   "codemirror_mode": {
    "name": "ipython",
    "version": 3
   },
   "file_extension": ".py",
   "mimetype": "text/x-python",
   "name": "python",
   "nbconvert_exporter": "python",
   "pygments_lexer": "ipython3",
   "version": "3.5.1"
  }
 },
 "nbformat": 4,
 "nbformat_minor": 0
}
